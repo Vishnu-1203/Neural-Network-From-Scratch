{
  "nbformat": 4,
  "nbformat_minor": 0,
  "metadata": {
    "colab": {
      "provenance": [],
      "authorship_tag": "ABX9TyNjgqVouqQu8RUWHy3RkYua",
      "include_colab_link": true
    },
    "kernelspec": {
      "name": "python3",
      "display_name": "Python 3"
    },
    "language_info": {
      "name": "python"
    }
  },
  "cells": [
    {
      "cell_type": "markdown",
      "metadata": {
        "id": "view-in-github",
        "colab_type": "text"
      },
      "source": [
        "<a href=\"https://colab.research.google.com/github/Vishnu-1203/Neural-Network-From-Scratch/blob/main/Neural_network_from_scratch.ipynb\" target=\"_parent\"><img src=\"https://colab.research.google.com/assets/colab-badge.svg\" alt=\"Open In Colab\"/></a>"
      ]
    },
    {
      "cell_type": "code",
      "source": [
        "import pandas as pd\n",
        "import matplotlib.pyplot as plt\n",
        "import numpy as np\n"
      ],
      "metadata": {
        "id": "kCc_GBvO_XnG"
      },
      "execution_count": null,
      "outputs": []
    },
    {
      "cell_type": "code",
      "source": [
        "train=pd.read_csv(\"/content/mnist_train.csv\")\n",
        "test=pd.read_csv(\"/content/mnist_test.csv\")\n",
        "\n",
        "train=np.array(train)\n",
        "test=np.array(test)"
      ],
      "metadata": {
        "id": "80ScIDnG_gtP"
      },
      "execution_count": null,
      "outputs": []
    },
    {
      "cell_type": "markdown",
      "source": [
        "Splitting Data\n",
        "\n",
        "---\n",
        "\n"
      ],
      "metadata": {
        "id": "arO3Z7WlBe83"
      }
    },
    {
      "cell_type": "code",
      "source": [
        "y_train=train[:,0]\n",
        "x_train=(train[:,1:]/255).T\n",
        "\n",
        "y_test=test[:,0]\n",
        "x_test=(test[:,1:]/255).T\n",
        "\n",
        "print(x_train.shape)\n",
        "print(y_train.shape)"
      ],
      "metadata": {
        "colab": {
          "base_uri": "https://localhost:8080/"
        },
        "id": "nHyNaeRsAjCd",
        "outputId": "2caddb74-9413-418a-cf9f-d19261425ff6"
      },
      "execution_count": 38,
      "outputs": [
        {
          "output_type": "stream",
          "name": "stdout",
          "text": [
            "(784, 60000)\n",
            "(60000,)\n"
          ]
        }
      ]
    },
    {
      "cell_type": "markdown",
      "source": [
        "Initializing Parameters and Forward Propogation\n",
        "\n",
        "\n",
        "---\n",
        "\n"
      ],
      "metadata": {
        "id": "i55em1IHBvw_"
      }
    },
    {
      "cell_type": "code",
      "source": [
        "def init_params():\n",
        "  w1=np.random.rand(10,784)-0.5\n",
        "  b1=np.random.rand(10,1)-0.5\n",
        "\n",
        "  w2=np.random.rand(10,10)-0.5\n",
        "  b2=np.random.rand(10,1)-0.5\n",
        "\n",
        "  return w1,b1,w2,b2\n",
        "\n",
        "w1,b1,w2,b2=init_params()\n",
        "\n",
        "def ReLu(Z):\n",
        "  return np.maximum(0,Z)\n",
        "\n",
        "def softmax(Z):\n",
        "  return np.exp(Z)/np.sum(np.exp(Z))\n",
        "def forward_prop(w1,b1,w2,b2,x):\n",
        "  a1=w1.dot(x)+b1\n",
        "  z1=ReLu(a1)\n",
        "  z2=w2.dot(a1)+b2\n",
        "  a2=softmax(z2)\n",
        "  return z1,a1,z2,a2\n",
        "\n",
        "forward_prop(w1,b1,w2,b2,x_train)"
      ],
      "metadata": {
        "colab": {
          "base_uri": "https://localhost:8080/"
        },
        "id": "avS70M2CBB8X",
        "outputId": "b8428c77-1055-44e7-f6ab-deaf3de712cd"
      },
      "execution_count": 50,
      "outputs": [
        {
          "output_type": "execute_result",
          "data": {
            "text/plain": [
              "(array([[0.        , 0.        , 0.        , ..., 0.        , 0.        ,\n",
              "         0.        ],\n",
              "        [0.61456259, 0.71027312, 1.84847798, ..., 0.        , 0.        ,\n",
              "         2.6098458 ],\n",
              "        [1.30622291, 4.88186169, 0.10755219, ..., 2.35353091, 4.06697519,\n",
              "         0.        ],\n",
              "        ...,\n",
              "        [0.        , 0.        , 0.        , ..., 0.        , 0.        ,\n",
              "         0.        ],\n",
              "        [3.11369179, 0.        , 0.56157332, ..., 0.        , 2.18413757,\n",
              "         0.05469043],\n",
              "        [0.        , 2.22262831, 1.66099835, ..., 0.        , 0.        ,\n",
              "         0.86371685]]),\n",
              " array([[-1.96543757, -1.76475027, -2.06142323, ..., -1.61050039,\n",
              "         -1.59901156, -1.73215271],\n",
              "        [ 0.61456259,  0.71027312,  1.84847798, ..., -0.04584182,\n",
              "         -3.03154162,  2.6098458 ],\n",
              "        [ 1.30622291,  4.88186169,  0.10755219, ...,  2.35353091,\n",
              "          4.06697519, -0.40655234],\n",
              "        ...,\n",
              "        [-3.10593684, -3.67596314, -0.91276326, ..., -0.20269985,\n",
              "         -0.42112157, -0.69980697],\n",
              "        [ 3.11369179, -0.04480681,  0.56157332, ..., -1.28159323,\n",
              "          2.18413757,  0.05469043],\n",
              "        [-4.97493009,  2.22262831,  1.66099835, ..., -1.72372788,\n",
              "         -0.25157068,  0.86371685]]),\n",
              " array([[-3.14960403e+00, -2.92121302e+00,  5.41839497e-01, ...,\n",
              "         -2.66763855e+00, -3.84729853e+00,  6.79988971e-01],\n",
              "        [ 2.03527789e+00, -2.76983498e+00, -4.32332029e-01, ...,\n",
              "         -2.11922429e+00, -6.43376527e-01, -3.67749824e-01],\n",
              "        [-8.47532766e-01,  1.25523953e-01, -4.52312428e-01, ...,\n",
              "         -1.94642906e+00, -3.35326919e-01, -6.52803001e-01],\n",
              "        ...,\n",
              "        [-1.22885495e-03,  8.81724489e-01,  6.29279939e-01, ...,\n",
              "         -1.14209720e+00, -2.13640236e+00,  9.04155107e-01],\n",
              "        [-8.56663732e-01,  3.58311381e-01, -2.55630949e-01, ...,\n",
              "         -1.29614209e+00, -7.33509420e-01,  2.01098725e-01],\n",
              "        [-3.80421257e+00, -4.05748986e-01,  1.12022354e+00, ...,\n",
              "         -8.30762013e-01, -2.01795211e+00,  1.15444100e+00]]),\n",
              " array([[1.58135408e-08, 1.98709247e-08, 6.34165591e-07, ...,\n",
              "         2.56061372e-08, 7.87089737e-09, 7.28115420e-07],\n",
              "        [2.82354508e-06, 2.31185570e-08, 2.39400667e-07, ...,\n",
              "         4.43115923e-08, 1.93851826e-07, 2.55371867e-07],\n",
              "        [1.58054173e-07, 4.18214543e-07, 2.34664816e-07, ...,\n",
              "         5.26697639e-08, 2.63787457e-07, 1.92033072e-07],\n",
              "        ...,\n",
              "        [3.68426691e-07, 8.90866957e-07, 6.92113907e-07, ...,\n",
              "         1.17727591e-07, 4.35569053e-08, 9.11075451e-07],\n",
              "        [1.56617555e-07, 5.27834079e-07, 2.85670675e-07, ...,\n",
              "         1.00920040e-07, 1.77143686e-07, 4.51046002e-07],\n",
              "        [8.21743439e-09, 2.45850007e-07, 1.13081530e-06, ...,\n",
              "         1.60727212e-07, 4.90342237e-08, 1.17017853e-06]]))"
            ]
          },
          "metadata": {},
          "execution_count": 50
        }
      ]
    },
    {
      "cell_type": "markdown",
      "source": [
        "Backward Propogation\n",
        "\n",
        "---\n",
        "\n"
      ],
      "metadata": {
        "id": "ivCWe3a6d_EP"
      }
    },
    {
      "cell_type": "code",
      "source": [],
      "metadata": {
        "id": "AHgMcwvpb6Qw"
      },
      "execution_count": null,
      "outputs": []
    }
  ]
}