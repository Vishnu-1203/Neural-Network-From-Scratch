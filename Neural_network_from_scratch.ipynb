{
  "nbformat": 4,
  "nbformat_minor": 0,
  "metadata": {
    "colab": {
      "provenance": [],
      "authorship_tag": "ABX9TyNMknNJxAXI+xz5qHkJaQW/",
      "include_colab_link": true
    },
    "kernelspec": {
      "name": "python3",
      "display_name": "Python 3"
    },
    "language_info": {
      "name": "python"
    }
  },
  "cells": [
    {
      "cell_type": "markdown",
      "metadata": {
        "id": "view-in-github",
        "colab_type": "text"
      },
      "source": [
        "<a href=\"https://colab.research.google.com/github/Vishnu-1203/Neural-Network-From-Scratch/blob/main/Neural_network_from_scratch.ipynb\" target=\"_parent\"><img src=\"https://colab.research.google.com/assets/colab-badge.svg\" alt=\"Open In Colab\"/></a>"
      ]
    },
    {
      "cell_type": "code",
      "source": [
        "import pandas as pd\n",
        "import matplotlib.pyplot as plt\n",
        "import numpy as np\n"
      ],
      "metadata": {
        "id": "kCc_GBvO_XnG"
      },
      "execution_count": 134,
      "outputs": []
    },
    {
      "cell_type": "code",
      "source": [
        "train=pd.read_csv(\"/content/mnist_train.csv\")\n",
        "test=pd.read_csv(\"/content/mnist_test.csv\")\n",
        "\n",
        "train=np.array(train)\n",
        "test=np.array(test)\n",
        "\n",
        "m,n=train.shape"
      ],
      "metadata": {
        "id": "80ScIDnG_gtP"
      },
      "execution_count": 135,
      "outputs": []
    },
    {
      "cell_type": "markdown",
      "source": [
        "Splitting Data\n",
        "\n",
        "---\n",
        "\n"
      ],
      "metadata": {
        "id": "arO3Z7WlBe83"
      }
    },
    {
      "cell_type": "code",
      "source": [
        "y_train=train[:,0]\n",
        "x_train=(train[:,1:]/255).T\n",
        "\n",
        "y_test=test[:,0]\n",
        "x_test=(test[:,1:]/255).T\n",
        "\n",
        "\n",
        "print(x_train.shape)\n",
        "print(y_train.shape)"
      ],
      "metadata": {
        "colab": {
          "base_uri": "https://localhost:8080/"
        },
        "id": "nHyNaeRsAjCd",
        "outputId": "4b5ddb93-8c5e-46bc-906d-9d057fc34c26"
      },
      "execution_count": 136,
      "outputs": [
        {
          "output_type": "stream",
          "name": "stdout",
          "text": [
            "(784, 60000)\n",
            "(60000,)\n"
          ]
        }
      ]
    },
    {
      "cell_type": "markdown",
      "source": [
        "Initializing Parameters and Forward Propogation\n",
        "\n",
        "\n",
        "---\n",
        "\n"
      ],
      "metadata": {
        "id": "i55em1IHBvw_"
      }
    },
    {
      "cell_type": "code",
      "source": [
        "def init_params():\n",
        "  w1=np.random.rand(10,784)-0.5\n",
        "  b1=np.random.rand(10,1)-0.5\n",
        "\n",
        "  w2=np.random.rand(10,10)-0.5\n",
        "  b2=np.random.rand(10,1)-0.5\n",
        "\n",
        "  return w1,b1,w2,b2\n",
        "\n",
        "w1,b1,w2,b2=init_params()\n",
        "\n",
        "def ReLu(Z):\n",
        "  return np.maximum(0,Z)\n",
        "\n",
        "def softmax(Z):\n",
        "  A = np.exp(Z) / sum(np.exp(Z))\n",
        "  return A\n",
        "\n",
        "def forward_prop(w1,b1,w2,b2,x):\n",
        "  a1=w1.dot(x)+b1\n",
        "  z1=ReLu(a1)\n",
        "  z2=w2.dot(a1)+b2\n",
        "  a2=softmax(z2)\n",
        "  return z1,a1,z2,a2\n",
        "\n"
      ],
      "metadata": {
        "id": "avS70M2CBB8X"
      },
      "execution_count": 137,
      "outputs": []
    },
    {
      "cell_type": "markdown",
      "source": [
        "Backward Propogation\n",
        "\n",
        "---\n",
        "\n"
      ],
      "metadata": {
        "id": "ivCWe3a6d_EP"
      }
    },
    {
      "cell_type": "code",
      "source": [
        "def one_hot(y):\n",
        "  one_hot_y=np.zeros((y.size,y.max()+1))\n",
        "  one_hot_y[np.arange(y.size),y]=1\n",
        "  return one_hot_y.T\n",
        "\n",
        "def deriv_ReLu(Z):\n",
        "  return Z>0\n",
        "\n"
      ],
      "metadata": {
        "id": "AHgMcwvpb6Qw"
      },
      "execution_count": 138,
      "outputs": []
    },
    {
      "cell_type": "code",
      "source": [
        "def backward_prop(z1,a1,z2,a2,w1,w2,x,y):\n",
        "  one_hot_y=one_hot(y)\n",
        "\n",
        "  dz2=a2-one_hot_y\n",
        "  dw2=1/m*dz2.dot(a1.T)\n",
        "  db2=1/m*(np.sum(dz2))\n",
        "\n",
        "  dz1=w2.T.dot(dz2)*deriv_ReLu(z1)\n",
        "  dw1=1/m*dz1.dot(x.T)\n",
        "  db1=1/m*(np.sum(dz1))\n",
        "\n",
        "  return dw1,db1,dw2,db2\n"
      ],
      "metadata": {
        "id": "UBnyzlyelYwL"
      },
      "execution_count": 139,
      "outputs": []
    },
    {
      "cell_type": "markdown",
      "source": [
        "\n",
        "Updating parameters\n",
        "\n",
        "---\n",
        "\n",
        "\n",
        "\n"
      ],
      "metadata": {
        "id": "_GUdzXppsVem"
      }
    },
    {
      "cell_type": "code",
      "source": [
        "def update_params(w1,b1,w2,b2,dw1,db1,dw2,db2,alpha):\n",
        "  w2=w2-alpha*dw2\n",
        "  b2=b2-alpha*db2\n",
        "  w1=w1-alpha*dw1\n",
        "  b1=b1-alpha*db1\n",
        "  return w1,b1,w2,b2"
      ],
      "metadata": {
        "id": "DkfKIg1Fscpd"
      },
      "execution_count": 140,
      "outputs": []
    },
    {
      "cell_type": "markdown",
      "source": [
        "Gradient Descent\n",
        "\n",
        "---\n",
        "\n"
      ],
      "metadata": {
        "id": "59cQZ5ektQmt"
      }
    },
    {
      "cell_type": "code",
      "source": [
        "def get_predictions(A2):\n",
        "    return np.argmax(A2, 0)\n",
        "\n",
        "def get_accuracy(predictions, Y):\n",
        "    print(predictions, Y)\n",
        "    return np.sum(predictions == Y) / Y.size\n",
        "\n",
        "def gradient_descent(x,y,iterations,alpha):\n",
        "  w1,b1,w2,b2=init_params()\n",
        "  for i in range(iterations):\n",
        "    z1,a1,z2,a2=forward_prop(w1,b1,w2,b2,x)\n",
        "    dw1,db1,dw2,db2=backward_prop(z1,a1,z2,a2,w1,w2,x,y)\n",
        "    w1,b1,w2,b2=update_params(w1,b1,w2,b2,dw1,db1,dw2,db2,alpha)\n",
        "    if(i%10==0):\n",
        "      print(\"Epoch:\",i)\n",
        "      print(\"Accuracy:\",get_accuracy(get_predictions(a2),y))\n",
        "\n",
        "  return w1,b1,w2,b2\n"
      ],
      "metadata": {
        "id": "wBJLwEQytTS7"
      },
      "execution_count": 141,
      "outputs": []
    },
    {
      "cell_type": "code",
      "source": [
        "W1,B1,W2,B2=gradient_descent(x_train,y_train,500,0.1)"
      ],
      "metadata": {
        "colab": {
          "base_uri": "https://localhost:8080/"
        },
        "id": "oMfpmB0yvG7y",
        "outputId": "374f42d9-01fd-46dd-a164-0958504230bb"
      },
      "execution_count": 143,
      "outputs": [
        {
          "output_type": "stream",
          "name": "stdout",
          "text": [
            "Epoch: 0\n",
            "[3 3 3 ... 3 0 3] [5 0 4 ... 5 6 8]\n",
            "Accuracy: 0.032883333333333334\n",
            "Epoch: 10\n",
            "[8 0 7 ... 8 0 8] [5 0 4 ... 5 6 8]\n",
            "Accuracy: 0.20503333333333335\n",
            "Epoch: 20\n",
            "[3 0 7 ... 8 0 0] [5 0 4 ... 5 6 8]\n",
            "Accuracy: 0.3515\n",
            "Epoch: 30\n",
            "[5 0 4 ... 5 0 0] [5 0 4 ... 5 6 8]\n",
            "Accuracy: 0.44233333333333336\n",
            "Epoch: 40\n",
            "[5 0 4 ... 5 0 6] [5 0 4 ... 5 6 8]\n",
            "Accuracy: 0.49496666666666667\n",
            "Epoch: 50\n",
            "[5 0 4 ... 5 0 6] [5 0 4 ... 5 6 8]\n",
            "Accuracy: 0.5309333333333334\n",
            "Epoch: 60\n",
            "[5 0 4 ... 5 0 6] [5 0 4 ... 5 6 8]\n",
            "Accuracy: 0.5581833333333334\n",
            "Epoch: 70\n",
            "[5 0 4 ... 5 0 6] [5 0 4 ... 5 6 8]\n",
            "Accuracy: 0.5799\n",
            "Epoch: 80\n",
            "[5 0 4 ... 5 0 6] [5 0 4 ... 5 6 8]\n",
            "Accuracy: 0.5974333333333334\n",
            "Epoch: 90\n",
            "[5 0 4 ... 5 0 6] [5 0 4 ... 5 6 8]\n",
            "Accuracy: 0.6133166666666666\n",
            "Epoch: 100\n",
            "[5 0 4 ... 5 0 6] [5 0 4 ... 5 6 8]\n",
            "Accuracy: 0.6268\n",
            "Epoch: 110\n",
            "[5 0 4 ... 5 0 6] [5 0 4 ... 5 6 8]\n",
            "Accuracy: 0.6385333333333333\n",
            "Epoch: 120\n",
            "[5 0 4 ... 5 6 6] [5 0 4 ... 5 6 8]\n",
            "Accuracy: 0.64925\n",
            "Epoch: 130\n",
            "[5 0 4 ... 5 6 6] [5 0 4 ... 5 6 8]\n",
            "Accuracy: 0.6595333333333333\n",
            "Epoch: 140\n",
            "[5 0 4 ... 5 6 5] [5 0 4 ... 5 6 8]\n",
            "Accuracy: 0.6685166666666666\n",
            "Epoch: 150\n",
            "[5 0 4 ... 5 6 5] [5 0 4 ... 5 6 8]\n",
            "Accuracy: 0.6781833333333334\n",
            "Epoch: 160\n",
            "[5 0 4 ... 5 6 5] [5 0 4 ... 5 6 8]\n",
            "Accuracy: 0.68635\n",
            "Epoch: 170\n",
            "[5 0 4 ... 5 6 5] [5 0 4 ... 5 6 8]\n",
            "Accuracy: 0.6941166666666667\n",
            "Epoch: 180\n",
            "[5 0 4 ... 5 6 5] [5 0 4 ... 5 6 8]\n",
            "Accuracy: 0.70115\n",
            "Epoch: 190\n",
            "[5 0 4 ... 5 6 5] [5 0 4 ... 5 6 8]\n",
            "Accuracy: 0.70815\n",
            "Epoch: 200\n",
            "[5 0 4 ... 5 6 5] [5 0 4 ... 5 6 8]\n",
            "Accuracy: 0.7146333333333333\n",
            "Epoch: 210\n",
            "[5 0 4 ... 5 6 5] [5 0 4 ... 5 6 8]\n",
            "Accuracy: 0.7205\n",
            "Epoch: 220\n",
            "[5 0 4 ... 5 6 5] [5 0 4 ... 5 6 8]\n",
            "Accuracy: 0.7256666666666667\n",
            "Epoch: 230\n",
            "[5 0 4 ... 5 6 5] [5 0 4 ... 5 6 8]\n",
            "Accuracy: 0.73\n",
            "Epoch: 240\n",
            "[5 0 4 ... 5 6 5] [5 0 4 ... 5 6 8]\n",
            "Accuracy: 0.7346833333333334\n",
            "Epoch: 250\n",
            "[5 0 4 ... 5 6 5] [5 0 4 ... 5 6 8]\n",
            "Accuracy: 0.7389833333333333\n",
            "Epoch: 260\n",
            "[5 0 4 ... 5 6 5] [5 0 4 ... 5 6 8]\n",
            "Accuracy: 0.7429166666666667\n",
            "Epoch: 270\n",
            "[5 0 4 ... 5 6 5] [5 0 4 ... 5 6 8]\n",
            "Accuracy: 0.7472\n",
            "Epoch: 280\n",
            "[5 0 4 ... 5 6 5] [5 0 4 ... 5 6 8]\n",
            "Accuracy: 0.7508666666666667\n",
            "Epoch: 290\n",
            "[5 0 4 ... 5 6 5] [5 0 4 ... 5 6 8]\n",
            "Accuracy: 0.7541333333333333\n",
            "Epoch: 300\n",
            "[5 0 4 ... 5 6 5] [5 0 4 ... 5 6 8]\n",
            "Accuracy: 0.7571666666666667\n",
            "Epoch: 310\n",
            "[5 0 4 ... 5 6 5] [5 0 4 ... 5 6 8]\n",
            "Accuracy: 0.76025\n",
            "Epoch: 320\n",
            "[3 0 4 ... 5 6 5] [5 0 4 ... 5 6 8]\n",
            "Accuracy: 0.7631333333333333\n",
            "Epoch: 330\n",
            "[3 0 4 ... 5 6 5] [5 0 4 ... 5 6 8]\n",
            "Accuracy: 0.7662\n",
            "Epoch: 340\n",
            "[3 0 4 ... 5 6 5] [5 0 4 ... 5 6 8]\n",
            "Accuracy: 0.7688166666666667\n",
            "Epoch: 350\n",
            "[3 0 4 ... 5 6 5] [5 0 4 ... 5 6 8]\n",
            "Accuracy: 0.7714666666666666\n",
            "Epoch: 360\n",
            "[3 0 4 ... 5 6 5] [5 0 4 ... 5 6 8]\n",
            "Accuracy: 0.77425\n",
            "Epoch: 370\n",
            "[3 0 4 ... 5 6 5] [5 0 4 ... 5 6 8]\n",
            "Accuracy: 0.7765833333333333\n",
            "Epoch: 380\n",
            "[3 0 4 ... 5 6 5] [5 0 4 ... 5 6 8]\n",
            "Accuracy: 0.7788666666666667\n",
            "Epoch: 390\n",
            "[3 0 4 ... 5 6 5] [5 0 4 ... 5 6 8]\n",
            "Accuracy: 0.78085\n",
            "Epoch: 400\n",
            "[3 0 4 ... 5 6 8] [5 0 4 ... 5 6 8]\n",
            "Accuracy: 0.78285\n",
            "Epoch: 410\n",
            "[3 0 4 ... 5 6 8] [5 0 4 ... 5 6 8]\n",
            "Accuracy: 0.7847166666666666\n",
            "Epoch: 420\n",
            "[3 0 4 ... 5 6 8] [5 0 4 ... 5 6 8]\n",
            "Accuracy: 0.7866666666666666\n",
            "Epoch: 430\n",
            "[3 0 4 ... 5 6 8] [5 0 4 ... 5 6 8]\n",
            "Accuracy: 0.7883333333333333\n",
            "Epoch: 440\n",
            "[3 0 4 ... 5 6 8] [5 0 4 ... 5 6 8]\n",
            "Accuracy: 0.7900333333333334\n",
            "Epoch: 450\n",
            "[3 0 4 ... 5 6 8] [5 0 4 ... 5 6 8]\n",
            "Accuracy: 0.7914\n",
            "Epoch: 460\n",
            "[3 0 4 ... 5 6 8] [5 0 4 ... 5 6 8]\n",
            "Accuracy: 0.7937\n",
            "Epoch: 470\n",
            "[3 0 4 ... 5 6 8] [5 0 4 ... 5 6 8]\n",
            "Accuracy: 0.7955166666666666\n",
            "Epoch: 480\n",
            "[3 0 4 ... 5 6 8] [5 0 4 ... 5 6 8]\n",
            "Accuracy: 0.7971166666666667\n",
            "Epoch: 490\n",
            "[3 0 4 ... 5 6 8] [5 0 4 ... 5 6 8]\n",
            "Accuracy: 0.7982\n"
          ]
        }
      ]
    },
    {
      "cell_type": "markdown",
      "source": [
        "Testing Model\n",
        "\n",
        "---\n",
        "\n"
      ],
      "metadata": {
        "id": "vExb_gUt1H93"
      }
    },
    {
      "cell_type": "code",
      "source": [
        "def make_predictions(X, W1, b1, W2, b2):\n",
        "    _, _, _, A2 = forward_prop(W1, B1, W2, B2, X)\n",
        "    predictions = get_predictions(A2)\n",
        "    return predictions\n",
        "\n",
        "dev_predictions = make_predictions(x_test, W1, B1, W2, B2)\n",
        "get_accuracy(dev_predictions, y_test)"
      ],
      "metadata": {
        "colab": {
          "base_uri": "https://localhost:8080/"
        },
        "id": "dqRVagZR0nhF",
        "outputId": "bdf1344a-4574-451e-f420-b24e2601c2e9"
      },
      "execution_count": 146,
      "outputs": [
        {
          "output_type": "stream",
          "name": "stdout",
          "text": [
            "[7 2 1 ... 4 8 6] [7 2 1 ... 4 5 6]\n"
          ]
        },
        {
          "output_type": "execute_result",
          "data": {
            "text/plain": [
              "np.float64(0.8045)"
            ]
          },
          "metadata": {},
          "execution_count": 146
        }
      ]
    },
    {
      "cell_type": "markdown",
      "source": [
        "Final Verdict\n",
        "\n",
        "---\n",
        "\n",
        "79.8% Model accuracy on training set\n",
        "\n",
        "80.04% Model accuracy on test set\n",
        "\n",
        "\n"
      ],
      "metadata": {
        "id": "uFIhRTqj1Zd1"
      }
    }
  ]
}