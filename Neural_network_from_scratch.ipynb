{
  "nbformat": 4,
  "nbformat_minor": 0,
  "metadata": {
    "colab": {
      "provenance": [],
      "authorship_tag": "ABX9TyNZ8KQimHx0H83w+SWrN290",
      "include_colab_link": true
    },
    "kernelspec": {
      "name": "python3",
      "display_name": "Python 3"
    },
    "language_info": {
      "name": "python"
    }
  },
  "cells": [
    {
      "cell_type": "markdown",
      "metadata": {
        "id": "view-in-github",
        "colab_type": "text"
      },
      "source": [
        "<a href=\"https://colab.research.google.com/github/Vishnu-1203/Neural-Network-From-Scratch/blob/main/Neural_network_from_scratch.ipynb\" target=\"_parent\"><img src=\"https://colab.research.google.com/assets/colab-badge.svg\" alt=\"Open In Colab\"/></a>"
      ]
    },
    {
      "cell_type": "code",
      "source": [
        "import pandas as pd\n",
        "import matplotlib.pyplot as plt\n",
        "import numpy as np\n"
      ],
      "metadata": {
        "id": "kCc_GBvO_XnG"
      },
      "execution_count": 115,
      "outputs": []
    },
    {
      "cell_type": "code",
      "source": [
        "train=pd.read_csv(\"/content/mnist_train.csv\")\n",
        "test=pd.read_csv(\"/content/mnist_test.csv\")\n",
        "\n",
        "train=np.array(train)\n",
        "test=np.array(test)\n",
        "\n",
        "m,n=train.shape"
      ],
      "metadata": {
        "id": "80ScIDnG_gtP"
      },
      "execution_count": 116,
      "outputs": []
    },
    {
      "cell_type": "markdown",
      "source": [
        "Splitting Data\n",
        "\n",
        "---\n",
        "\n"
      ],
      "metadata": {
        "id": "arO3Z7WlBe83"
      }
    },
    {
      "cell_type": "code",
      "source": [
        "y_train=train[:,0]\n",
        "x_train=(train[:,1:]/255).T\n",
        "\n",
        "y_test=test[:,0]\n",
        "x_test=(test[:,1:]/255).T\n",
        "\n",
        "\n",
        "print(x_train.shape)\n",
        "print(y_train.shape)"
      ],
      "metadata": {
        "colab": {
          "base_uri": "https://localhost:8080/"
        },
        "id": "nHyNaeRsAjCd",
        "outputId": "9a7fcae3-a338-4826-9bd1-391b77d78db7"
      },
      "execution_count": 117,
      "outputs": [
        {
          "output_type": "stream",
          "name": "stdout",
          "text": [
            "(784, 60000)\n",
            "(60000,)\n"
          ]
        }
      ]
    },
    {
      "cell_type": "markdown",
      "source": [
        "Initializing Parameters and Forward Propogation\n",
        "\n",
        "\n",
        "---\n",
        "\n"
      ],
      "metadata": {
        "id": "i55em1IHBvw_"
      }
    },
    {
      "cell_type": "code",
      "source": [
        "def init_params():\n",
        "  w1=np.random.rand(10,784)-0.5\n",
        "  b1=np.random.rand(10,1)-0.5\n",
        "\n",
        "  w2=np.random.rand(10,10)-0.5\n",
        "  b2=np.random.rand(10,1)-0.5\n",
        "\n",
        "  return w1,b1,w2,b2\n",
        "\n",
        "w1,b1,w2,b2=init_params()\n",
        "\n",
        "def ReLu(Z):\n",
        "  return np.maximum(0,Z)\n",
        "\n",
        "def softmax(Z):\n",
        "  return np.exp(Z)/np.sum(np.exp(Z))\n",
        "def forward_prop(w1,b1,w2,b2,x):\n",
        "  a1=w1.dot(x)+b1\n",
        "  z1=ReLu(a1)\n",
        "  z2=w2.dot(a1)+b2\n",
        "  a2=softmax(z2)\n",
        "  return z1,a1,z2,a2\n",
        "\n"
      ],
      "metadata": {
        "id": "avS70M2CBB8X"
      },
      "execution_count": 118,
      "outputs": []
    },
    {
      "cell_type": "markdown",
      "source": [
        "Backward Propogation\n",
        "\n",
        "---\n",
        "\n"
      ],
      "metadata": {
        "id": "ivCWe3a6d_EP"
      }
    },
    {
      "cell_type": "code",
      "source": [
        "def one_hot(y):\n",
        "  one_hot_y=np.zeros((y.size,y.max()+1))\n",
        "  one_hot_y[np.arange(y.size),y]=1\n",
        "  return one_hot_y.T\n",
        "\n",
        "def deriv_ReLu(Z):\n",
        "  return Z>0\n",
        "\n"
      ],
      "metadata": {
        "id": "AHgMcwvpb6Qw"
      },
      "execution_count": 119,
      "outputs": []
    },
    {
      "cell_type": "code",
      "source": [
        "def backward_prop(z1,a1,z2,a2,w1,w2,x,y):\n",
        "  one_hot_y=one_hot(y)\n",
        "\n",
        "  dz2=a2-one_hot_y\n",
        "  dw2=1/m*dz2.dot(a1.T)\n",
        "  db2=1/m*(np.sum(dz2))\n",
        "\n",
        "  dz1=w2.T.dot(dz2)*deriv_ReLu(z1)\n",
        "  dw1=1/m*dz1.dot(x.T)\n",
        "  db1=1/m*(np.sum(dz1))\n",
        "\n",
        "  return dw1,db1,dw2,db2\n"
      ],
      "metadata": {
        "id": "UBnyzlyelYwL"
      },
      "execution_count": 120,
      "outputs": []
    },
    {
      "cell_type": "markdown",
      "source": [
        "\n",
        "Updating parameters\n",
        "\n",
        "---\n",
        "\n",
        "\n",
        "\n"
      ],
      "metadata": {
        "id": "_GUdzXppsVem"
      }
    },
    {
      "cell_type": "code",
      "source": [
        "def update_params(w1,b1,w2,b2,dw1,db1,dw2,db2,alpha):\n",
        "  w2=w2-alpha*dw2\n",
        "  b2=b2-alpha*db2\n",
        "  w1=w1-alpha*dw1\n",
        "  b1=b1-alpha*db1\n",
        "  return w1,b1,w2,b2"
      ],
      "metadata": {
        "id": "DkfKIg1Fscpd"
      },
      "execution_count": 121,
      "outputs": []
    },
    {
      "cell_type": "markdown",
      "source": [
        "Gradient Descent\n",
        "\n",
        "---\n",
        "\n"
      ],
      "metadata": {
        "id": "59cQZ5ektQmt"
      }
    },
    {
      "cell_type": "code",
      "source": [
        "def get_predictions(A2):\n",
        "    return np.argmax(A2, 0)\n",
        "\n",
        "def get_accuracy(predictions, Y):\n",
        "    print(predictions, Y)\n",
        "    return np.sum(predictions == Y) / Y.size\n",
        "\n",
        "def gradient_descent(x,y,iterations,alpha):\n",
        "  w1,b1,w2,b2=init_params()\n",
        "  for i in range(iterations):\n",
        "    z1,a1,z2,a2=forward_prop(w1,b1,w2,b2,x)\n",
        "    dw1,db1,dw2,db2=backward_prop(z1,a1,z2,a2,w1,w2,x,y)\n",
        "    w1,b1,w2,b2=update_params(w1,b1,w2,b2,dw1,db1,dw2,db2,alpha)\n",
        "    if(i%10==0):\n",
        "      print(\"Epoch:\",i)\n",
        "      print(\"Accuracy:\",get_accuracy(get_predictions(a2),y))\n",
        "\n",
        "  return w1,b1,w2,b2\n"
      ],
      "metadata": {
        "id": "wBJLwEQytTS7"
      },
      "execution_count": 122,
      "outputs": []
    },
    {
      "cell_type": "code",
      "source": [
        "W1,B1,W2,B2=gradient_descent(x_train,y_train,100,0.1)"
      ],
      "metadata": {
        "colab": {
          "base_uri": "https://localhost:8080/"
        },
        "id": "oMfpmB0yvG7y",
        "outputId": "0ce5ddaf-ca18-4534-dead-dc6af128e111"
      },
      "execution_count": 123,
      "outputs": [
        {
          "output_type": "stream",
          "name": "stdout",
          "text": [
            "Epoch: 0\n",
            "[5 5 5 ... 7 5 5] [5 0 4 ... 5 6 8]\n",
            "Accuracy: 0.07696666666666667\n",
            "Epoch: 10\n",
            "[5 0 5 ... 5 0 0] [5 0 4 ... 5 6 8]\n",
            "Accuracy: 0.1243\n"
          ]
        },
        {
          "output_type": "stream",
          "name": "stderr",
          "text": [
            "/tmp/ipython-input-1083027146.py:16: RuntimeWarning: overflow encountered in exp\n",
            "  return np.exp(Z)/np.sum(np.exp(Z))\n",
            "/tmp/ipython-input-1083027146.py:16: RuntimeWarning: invalid value encountered in divide\n",
            "  return np.exp(Z)/np.sum(np.exp(Z))\n"
          ]
        },
        {
          "output_type": "stream",
          "name": "stdout",
          "text": [
            "Epoch: 20\n",
            "[0 0 0 ... 0 0 0] [5 0 4 ... 5 6 8]\n",
            "Accuracy: 0.09871666666666666\n",
            "Epoch: 30\n",
            "[0 0 0 ... 0 0 0] [5 0 4 ... 5 6 8]\n",
            "Accuracy: 0.09871666666666666\n",
            "Epoch: 40\n",
            "[0 0 0 ... 0 0 0] [5 0 4 ... 5 6 8]\n",
            "Accuracy: 0.09871666666666666\n",
            "Epoch: 50\n",
            "[0 0 0 ... 0 0 0] [5 0 4 ... 5 6 8]\n",
            "Accuracy: 0.09871666666666666\n",
            "Epoch: 60\n",
            "[0 0 0 ... 0 0 0] [5 0 4 ... 5 6 8]\n",
            "Accuracy: 0.09871666666666666\n",
            "Epoch: 70\n",
            "[0 0 0 ... 0 0 0] [5 0 4 ... 5 6 8]\n",
            "Accuracy: 0.09871666666666666\n",
            "Epoch: 80\n",
            "[0 0 0 ... 0 0 0] [5 0 4 ... 5 6 8]\n",
            "Accuracy: 0.09871666666666666\n",
            "Epoch: 90\n",
            "[0 0 0 ... 0 0 0] [5 0 4 ... 5 6 8]\n",
            "Accuracy: 0.09871666666666666\n"
          ]
        }
      ]
    }
  ]
}