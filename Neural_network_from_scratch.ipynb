{
  "nbformat": 4,
  "nbformat_minor": 0,
  "metadata": {
    "colab": {
      "provenance": [],
      "authorship_tag": "ABX9TyNeYyATWGHqs1DDOn94ZhAX",
      "include_colab_link": true
    },
    "kernelspec": {
      "name": "python3",
      "display_name": "Python 3"
    },
    "language_info": {
      "name": "python"
    }
  },
  "cells": [
    {
      "cell_type": "markdown",
      "metadata": {
        "id": "view-in-github",
        "colab_type": "text"
      },
      "source": [
        "<a href=\"https://colab.research.google.com/github/Vishnu-1203/Neural-Network-From-Scratch/blob/main/Neural_network_from_scratch.ipynb\" target=\"_parent\"><img src=\"https://colab.research.google.com/assets/colab-badge.svg\" alt=\"Open In Colab\"/></a>"
      ]
    },
    {
      "cell_type": "code",
      "source": [
        "import pandas as pd\n",
        "import matplotlib.pyplot as plt\n",
        "import numpy as np\n"
      ],
      "metadata": {
        "id": "kCc_GBvO_XnG"
      },
      "execution_count": null,
      "outputs": []
    },
    {
      "cell_type": "code",
      "source": [
        "train=pd.read_csv(\"/content/mnist_train.csv\")\n",
        "test=pd.read_csv(\"/content/mnist_test.csv\")\n",
        "\n",
        "train=np.array(train)\n",
        "test=np.array(test)"
      ],
      "metadata": {
        "id": "80ScIDnG_gtP"
      },
      "execution_count": null,
      "outputs": []
    },
    {
      "cell_type": "markdown",
      "source": [
        "Splitting Data\n",
        "\n",
        "---\n",
        "\n"
      ],
      "metadata": {
        "id": "arO3Z7WlBe83"
      }
    },
    {
      "cell_type": "code",
      "source": [
        "y_train=train[:,0]\n",
        "x_train=train[:,1:]/255\n",
        "\n",
        "y_test=test[:,0]\n",
        "x_test=test[:,1:]/255\n",
        "\n",
        "print(x_train.shape)\n",
        "print(y_train.shape)"
      ],
      "metadata": {
        "colab": {
          "base_uri": "https://localhost:8080/"
        },
        "id": "nHyNaeRsAjCd",
        "outputId": "0fdd2ccb-2e63-4743-c341-16d1145a3f89"
      },
      "execution_count": null,
      "outputs": [
        {
          "output_type": "stream",
          "name": "stdout",
          "text": [
            "(60000, 784)\n",
            "(60000,)\n"
          ]
        }
      ]
    },
    {
      "cell_type": "markdown",
      "source": [
        "Initializing Parameters and Writing other Functions\n",
        "\n",
        "---\n",
        "\n"
      ],
      "metadata": {
        "id": "i55em1IHBvw_"
      }
    },
    {
      "cell_type": "code",
      "source": [
        "def init_params():\n",
        "  w1=np.random.rand(10,784)-0.5\n",
        "  b1=np.random.rand(10,1)-0.5\n",
        "\n",
        "  w2=np.random.rand(10,10)-0.5\n",
        "  b2=np.random.rand(10,1)-0.5\n",
        "\n",
        "  print(w1,\"\\n hehe\\n\",w2)\n",
        "init_params()"
      ],
      "metadata": {
        "colab": {
          "base_uri": "https://localhost:8080/"
        },
        "id": "avS70M2CBB8X",
        "outputId": "1dc265f0-b607-4344-97db-44c31d39c635"
      },
      "execution_count": null,
      "outputs": [
        {
          "output_type": "stream",
          "name": "stdout",
          "text": [
            "[[ 0.27674037  0.27314226 -0.22405538 ...  0.23902608 -0.29784744\n",
            "  -0.3468354 ]\n",
            " [ 0.12575543  0.0120944   0.27720976 ...  0.43262512 -0.29953222\n",
            "   0.34303856]\n",
            " [ 0.10843423  0.49649229 -0.45190681 ...  0.18411508 -0.23643167\n",
            "  -0.42996124]\n",
            " ...\n",
            " [-0.08483151 -0.14058436 -0.13213929 ... -0.0542435   0.054685\n",
            "  -0.46471857]\n",
            " [-0.06059613 -0.11829581  0.11963968 ... -0.30672977  0.04118233\n",
            "   0.17656853]\n",
            " [ 0.38212298  0.30952772  0.28924383 ... -0.40176228 -0.00671263\n",
            "  -0.07350481]] \n",
            " hehe\n",
            " [[-0.12110844 -0.23148966  0.2775286  -0.26661747 -0.47974611  0.2814616\n",
            "  -0.49776593 -0.21151493  0.28077452 -0.41112822]\n",
            " [-0.387753   -0.00224756  0.36849234  0.33522463  0.34854754 -0.02724678\n",
            "   0.26871055  0.10783858  0.03475666  0.23920969]\n",
            " [ 0.11826788  0.26671721 -0.23531302  0.47184122 -0.11325254 -0.49944275\n",
            "   0.27485437  0.00380902 -0.41197475  0.40878764]\n",
            " [ 0.32739894 -0.42176191 -0.08400275  0.4889718  -0.27656746 -0.47122006\n",
            "   0.28776306  0.45335986 -0.4972979   0.36414424]\n",
            " [ 0.26680673 -0.38727202  0.0856332  -0.44735337 -0.49356671  0.26672073\n",
            "  -0.01921622 -0.13418469  0.36113338  0.09882532]\n",
            " [ 0.46730711  0.07092079 -0.02394584  0.08193812 -0.41114073 -0.32591558\n",
            "  -0.05341113  0.11619468 -0.30434891  0.35770978]\n",
            " [ 0.37011984 -0.47681962  0.05594303 -0.3246268   0.22380906 -0.1396681\n",
            "  -0.27229847  0.04923719  0.43643403  0.09323835]\n",
            " [-0.46339573 -0.18602585  0.38707021  0.35424206 -0.2604312   0.04242146\n",
            "   0.31707765 -0.19377363 -0.33192023 -0.16755184]\n",
            " [ 0.48737637  0.14772544  0.24043623  0.4378176  -0.17891615  0.28532693\n",
            "   0.11076871  0.33802924  0.26947799  0.12394019]\n",
            " [ 0.46084866 -0.24440691  0.17630971  0.13945903 -0.48508283  0.46184168\n",
            "   0.09231978 -0.40816283  0.36235595  0.35525883]]\n"
          ]
        }
      ]
    }
  ]
}